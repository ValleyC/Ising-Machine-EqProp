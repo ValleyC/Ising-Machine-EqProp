{
 "cells": [
  {
   "cell_type": "code",
   "execution_count": 3,
   "metadata": {},
   "outputs": [
    {
     "ename": "AttributeError",
     "evalue": "'Args' object has no attribute 'data_augmentation'",
     "output_type": "error",
     "traceback": [
      "\u001b[1;31m---------------------------------------------------------------------------\u001b[0m",
      "\u001b[1;31mAttributeError\u001b[0m                            Traceback (most recent call last)",
      "Cell \u001b[1;32mIn [3], line 38\u001b[0m\n\u001b[0;32m     35\u001b[0m args \u001b[38;5;241m=\u001b[39m Args()\n\u001b[0;32m     37\u001b[0m \u001b[38;5;66;03m# Load MNIST data\u001b[39;00m\n\u001b[1;32m---> 38\u001b[0m train_loader, test_loader, _ \u001b[38;5;241m=\u001b[39m generate_mnist(args)\n\u001b[0;32m     40\u001b[0m \u001b[38;5;66;03m# Initialize the network\u001b[39;00m\n\u001b[0;32m     41\u001b[0m net \u001b[38;5;241m=\u001b[39m Network(args)\n",
      "File \u001b[1;32md:\\research\\Ising-Machine-EqProp\\MLP\\QA-SA\\Tools.py:120\u001b[0m, in \u001b[0;36mgenerate_mnist\u001b[1;34m(args)\u001b[0m\n\u001b[0;32m    117\u001b[0m N_data_test \u001b[38;5;241m=\u001b[39m args\u001b[38;5;241m.\u001b[39mN_data_test\n\u001b[0;32m    119\u001b[0m \u001b[38;5;28;01mwith\u001b[39;00m torch\u001b[38;5;241m.\u001b[39mno_grad():\n\u001b[1;32m--> 120\u001b[0m     \u001b[38;5;28;01mif\u001b[39;00m \u001b[43margs\u001b[49m\u001b[38;5;241;43m.\u001b[39;49m\u001b[43mdata_augmentation\u001b[49m:\n\u001b[0;32m    121\u001b[0m         transforms_train\u001b[38;5;241m=\u001b[39m[torchvision\u001b[38;5;241m.\u001b[39mtransforms\u001b[38;5;241m.\u001b[39mToTensor(), torchvision\u001b[38;5;241m.\u001b[39mtransforms\u001b[38;5;241m.\u001b[39mRandomAffine(\u001b[38;5;241m10\u001b[39m, translate\u001b[38;5;241m=\u001b[39m(\u001b[38;5;241m0.04\u001b[39m, \u001b[38;5;241m0.04\u001b[39m), scale\u001b[38;5;241m=\u001b[39m\u001b[38;5;28;01mNone\u001b[39;00m, shear\u001b[38;5;241m=\u001b[39m\u001b[38;5;28;01mNone\u001b[39;00m, interpolation\u001b[38;5;241m=\u001b[39mtorchvision\u001b[38;5;241m.\u001b[39mtransforms\u001b[38;5;241m.\u001b[39mInterpolationMode\u001b[38;5;241m.\u001b[39mNEAREST, fill\u001b[38;5;241m=\u001b[39m\u001b[38;5;241m0\u001b[39m), ReshapeTransform((\u001b[38;5;241m-\u001b[39m\u001b[38;5;241m1\u001b[39m,))]\n\u001b[0;32m    122\u001b[0m     \u001b[38;5;28;01melse\u001b[39;00m:\n",
      "\u001b[1;31mAttributeError\u001b[0m: 'Args' object has no attribute 'data_augmentation'"
     ]
    }
   ],
   "source": [
    "# Import necessary libraries\n",
    "import torch\n",
    "import numpy as np\n",
    "import matplotlib.pyplot as plt\n",
    "from tqdm import tqdm\n",
    "from Network import Network\n",
    "from Tools import generate_mnist, createPath, initDataframe, updateDataframe\n",
    "from simulated_sampler import SimulatedAnnealingSampler\n",
    "\n",
    "# Set up the arguments for the training\n",
    "class Args:\n",
    "    dataset = 'mnist'\n",
    "    simulated = 1  # Use simulated annealing\n",
    "    mode = 'ising'\n",
    "    layersList = [784, 120, 40]  # Input, Hidden, Output layers\n",
    "    n_iter_free = 10\n",
    "    n_iter_nudge = 10\n",
    "    frac_anneal_nudge = 0.25\n",
    "    N_data = 1000  # Number of training data points\n",
    "    N_data_test = 100  # Number of testing data points\n",
    "    beta = 5\n",
    "    batch_size = 1\n",
    "    lrW0 = 0.01  # Learning rate for input-hidden weights\n",
    "    lrW1 = 0.01  # Learning rate for hidden-output weights\n",
    "    lrB0 = 0.001  # Learning rate for hidden biases\n",
    "    lrB1 = 0.001  # Learning rate for output biases\n",
    "    epochs = 50\n",
    "    load_model = 0\n",
    "    gain_weight0 = 0.5\n",
    "    gain_weight1 = 0.25\n",
    "    bias_lim = 4.0\n",
    "    chain_strength = 1.0\n",
    "    auto_scale = 0\n",
    "\n",
    "args = Args()\n",
    "\n",
    "# Load MNIST data\n",
    "train_loader, test_loader, _ = generate_mnist(args)\n",
    "\n",
    "# Initialize the network\n",
    "net = Network(args)\n",
    "\n",
    "# Initialize the sampler\n",
    "simu_sampler = SimulatedAnnealingSampler()\n",
    "\n",
    "# Set up the base path and dataframe for saving results\n",
    "BASE_PATH = createPath(args)\n",
    "dataframe = initDataframe(BASE_PATH)\n",
    "\n",
    "# Training and testing loops\n",
    "for epoch in tqdm(range(args.epochs)):\n",
    "    # Train the network for one epoch\n",
    "    exact_loss, exact_pred, qpu_loss, qpu_pred = train(net, args, train_loader, simu_sampler, None, None)\n",
    "    \n",
    "    # Test the network after each epoch\n",
    "    exact_loss_test, exact_pred_test, qpu_loss_test, qpu_pred_test = test(net, args, test_loader, simu_sampler, None, None)\n",
    "    \n",
    "    # Update the results dataframe\n",
    "    dataframe = updateDataframe(\n",
    "        BASE_PATH, dataframe,\n",
    "        exact_pred / len(train_loader.dataset) * 100,\n",
    "        exact_pred_test / len(test_loader.dataset) * 100,\n",
    "        qpu_pred / len(train_loader.dataset) * 100,\n",
    "        qpu_pred_test / len(test_loader.dataset) * 100,\n",
    "        exact_loss, exact_loss_test, qpu_loss, qpu_loss_test\n",
    "    )\n",
    "\n",
    "    # Save the model after each epoch\n",
    "    torch.save(net.state_dict(), f\"{BASE_PATH}/model_epoch_{epoch}.pth\")\n",
    "\n",
    "# Plotting results\n",
    "from plotFunction import plot_mean_error, plot_mean_loss\n",
    "\n",
    "plot_mean_error([dataframe['QPU_Train_Error']], [dataframe['QPU_Test_Error']], [], [])\n",
    "plot_mean_loss([dataframe['QPU_Train_Loss']], [dataframe['QPU_Test_Loss']])\n",
    "\n",
    "plt.show()\n"
   ]
  },
  {
   "cell_type": "code",
   "execution_count": 7,
   "metadata": {},
   "outputs": [
    {
     "name": "stdout",
     "output_type": "stream",
     "text": [
      "c:\\Users\\Valley\\AppData\\Local\\Programs\\Python\\Python310\\python.exe\n"
     ]
    }
   ],
   "source": [
    "import sys\n",
    "print(sys.executable)\n"
   ]
  }
 ],
 "metadata": {
  "kernelspec": {
   "display_name": "Python 3",
   "language": "python",
   "name": "python3"
  },
  "language_info": {
   "codemirror_mode": {
    "name": "ipython",
    "version": 3
   },
   "file_extension": ".py",
   "mimetype": "text/x-python",
   "name": "python",
   "nbconvert_exporter": "python",
   "pygments_lexer": "ipython3",
   "version": "3.10.7"
  }
 },
 "nbformat": 4,
 "nbformat_minor": 2
}
